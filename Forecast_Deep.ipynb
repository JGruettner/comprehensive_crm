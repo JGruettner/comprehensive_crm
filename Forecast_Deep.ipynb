{
 "cells": [
  {
   "cell_type": "markdown",
   "metadata": {},
   "source": [
    "# Customer lifetime value (CLV) can help to answer the most important questions about sales:\n",
    "\n",
    "- How to Identify the most profitable customers?\n",
    "- How can a company offer the best product to the right customer?\n",
    "- How to approach profitable customers?\n",
    "- Determine the characteristics of most valuable customer relationships and seek out customers with similar traits\n",
    "- Predict future purchases and profits per customer\n",
    "- Deliver unique segment-specific marketing Treatments\n",
    "- Forecast customer satisfaction\n",
    "- Innovate and optimize marketing tools, tactics and channels\n",
    "- Adjust communication campaigns and messages\n",
    "- Cross-sell and up-sell based on individual patterns of buying"
   ]
  },
  {
   "cell_type": "code",
   "execution_count": null,
   "metadata": {},
   "outputs": [],
   "source": [
    "from datetime import date\n",
    "import pandas as pd\n",
    "import sqlite3\n",
    "import lifetimes\n",
    "import numpy as np\n",
    "\n",
    "%matplotlib inline\n",
    "import matplotlib.pyplot as plt\n",
    "\n",
    "import warnings\n",
    "warnings.filterwarnings(\"ignore\")\n",
    "\n",
    "# Connect Data Sources\n",
    "conn = sqlite3.connect('northwind.db')\n",
    "orders = pd.read_sql_query(\"select * from Orders;\", conn)\n",
    "order_detail = pd.read_sql_query(\"select * from OrderDetails;\", conn)\n",
    "customer = pd.read_sql_query(\"select * from Customers;\", conn)\n",
    "\n",
    "order_detail.head()"
   ]
  },
  {
   "cell_type": "code",
   "execution_count": null,
   "metadata": {},
   "outputs": [],
   "source": [
    "# Joining Tables to MasterDataSet\n",
    "mds = pd.merge(orders, order_detail, on='OrderID', how='left')\n",
    "mds2 = pd.merge(mds, customer, on='CustomerID', how='left')\n",
    "mds2.info()"
   ]
  },
  {
   "cell_type": "code",
   "execution_count": null,
   "metadata": {},
   "outputs": [],
   "source": [
    "#Calculate total purchase aga revenue\n",
    "mds2['TotalPurchase'] = (mds2['Quantity'] * mds2['UnitPrice']) - (mds2['Quantity'] * mds2['UnitPrice']* mds2['Discount'])\n",
    "mds2['OrderDate'] = pd.to_datetime(mds2['OrderDate'])\n",
    "mds2['CustomerID'].shape"
   ]
  },
  {
   "cell_type": "code",
   "execution_count": null,
   "metadata": {},
   "outputs": [],
   "source": [
    "# Calculate basic RFM Score manually\n",
    "#T = Zeit zwischen der ersten Bestellung eines Kunden und dem Ende des Merkmalzeitraums\n",
    "\n",
    "customer_detail=mds2.groupby('CustomerID').agg({'OrderDate': lambda date: (date.max() - date.min()).days,\n",
    "                                        'OrderID': lambda num: len(np.unique(num)),\n",
    "                                        'Quantity': lambda quant: quant.sum(),\n",
    "                                        'TotalPurchase': lambda price: price.sum()})\n",
    "customer_detail.columns=['recency','frequency','num_units','monetary']\n",
    "customer_detail['frequency'] = customer_detail['frequency'].apply(lambda x: x-1) # Nummer minus 1\n",
    "customer_detail['T'] = (mds2['OrderDate'].max()- mds2.groupby('CustomerID')['OrderDate'].min()).dt.days\n",
    "customer_detail['avg_order_value']=customer_detail['monetary']/customer_detail['frequency']\n",
    "customer_detail.head(20)"
   ]
  },
  {
   "cell_type": "code",
   "execution_count": null,
   "metadata": {},
   "outputs": [],
   "source": [
    "# Zu Sicherheit die Programmierung des Backups\n",
    "from lifetimes.utils import summary_data_from_transaction_data\n",
    "backup = summary_data_from_transaction_data(mds2, 'CustomerID', 'OrderDate', observation_period_end='2018-05-06')\n",
    "\n",
    "print(backup.head())"
   ]
  },
  {
   "cell_type": "code",
   "execution_count": null,
   "metadata": {},
   "outputs": [],
   "source": [
    "# Summarise into RFM-Score\n",
    "customer_detail['r_quartile'] = pd.qcut(customer_detail['recency'], 4, ['1','2','3','4'])\n",
    "customer_detail['f_quartile'] = pd.qcut(customer_detail['frequency'], 4, ['4','3','2','1'])\n",
    "customer_detail['m_quartile'] = pd.qcut(customer_detail['monetary'], 4, ['4','3','2','1'])\n",
    "customer_detail['RFM_Score'] = customer_detail.r_quartile.astype(str)+ customer_detail.f_quartile.astype(str) + customer_detail.m_quartile.astype(str)\n",
    "customer_detail['profit']=customer_detail['monetary']*0.05\n",
    "customer_detail= customer_detail.query('frequency > 0')\n",
    "customer_detail['Total_Score'] = customer_detail.r_quartile.astype(int)+ customer_detail.f_quartile.astype(int) + customer_detail.m_quartile.astype(int)\n",
    "\n",
    "CountStatus = pd.value_counts(customer_detail['Total_Score'].values, sort=False)\n",
    "CountStatus.plot.barh()"
   ]
  },
  {
   "cell_type": "markdown",
   "metadata": {},
   "source": [
    "# Get into Customer Lifetime Value"
   ]
  },
  {
   "cell_type": "markdown",
   "metadata": {},
   "source": [
    "- The Customer Lifetime Value refers to past profits + expected no. of future transactions * expected profit per transaction\n",
    "\n",
    "**Estimate future purchase frequency per customer**\n",
    "- or in other words: the probability that a customer places a repeat purchase\n",
    "- Pareto/NBD for estimating the number of future purchases a customer will make\n",
    "- Beta Geometric/Negative Binomial Distribution (BG/NBD) model is an improvement of the Pareto/NBD model \n",
    "\n",
    "**Afterwards we estimate a customer’s average order value, to get the monetary involved**\n",
    "- a Gamma Gamma model to estimate average order value \n",
    "- Gamma-Gamma submodel is used on top of the BG/NBD model to estimate the monetary value of transactions\n",
    "- We can only rely on a customer’s past purchases and characterizing events, like website visits, reviews, etc.\n",
    "\n",
    "- plot_probability_alive_matrix"
   ]
  },
  {
   "cell_type": "code",
   "execution_count": null,
   "metadata": {},
   "outputs": [],
   "source": [
    "#https://lifetimes.readthedocs.io/en/master/lifetimes.html\n",
    "from lifetimes import ModifiedBetaGeoFitter\n",
    "\n",
    "mbgnbd = ModifiedBetaGeoFitter(penalizer_coef=0.001)\n",
    "mbgnbd.fit(customer_detail['frequency'], customer_detail['recency'], customer_detail['T'], verbose=True, fit_method='Nelder-Mead')\n",
    "mbgnbd.summary"
   ]
  },
  {
   "cell_type": "code",
   "execution_count": null,
   "metadata": {},
   "outputs": [],
   "source": [
    "from lifetimes import BetaGeoFitter\n",
    "bgf = BetaGeoFitter(penalizer_coef=0.0001)\n",
    "bgf.fit(customer_detail['frequency'], customer_detail['recency'], customer_detail['T'])\n",
    "bgf.summary"
   ]
  },
  {
   "cell_type": "code",
   "execution_count": null,
   "metadata": {},
   "outputs": [],
   "source": [
    "from lifetimes.plotting import plot_frequency_recency_matrix\n",
    "plot_frequency_recency_matrix(mbgnbd)"
   ]
  },
  {
   "cell_type": "code",
   "execution_count": null,
   "metadata": {},
   "outputs": [],
   "source": [
    "from lifetimes.plotting import plot_probability_alive_matrix\n",
    "plot_probability_alive_matrix(bgf)"
   ]
  },
  {
   "cell_type": "code",
   "execution_count": null,
   "metadata": {},
   "outputs": [],
   "source": [
    "from lifetimes.plotting import plot_period_transactions\n",
    "plot_period_transactions(bgf)"
   ]
  },
  {
   "cell_type": "code",
   "execution_count": null,
   "metadata": {},
   "outputs": [],
   "source": [
    "t = 90 # days to predict in the future \n",
    "customer_detail['pred_90d_bgf'] = bgf.conditional_expected_number_of_purchases_up_to_time(t, \n",
    "                                                                                      customer_detail['frequency'], \n",
    "                                                                                      customer_detail['recency'], \n",
    "                                                                                      customer_detail['T'])\n",
    "customer_detail.sort_values(by='pred_90d_bgf').tail(5)"
   ]
  },
  {
   "cell_type": "code",
   "execution_count": null,
   "metadata": {},
   "outputs": [],
   "source": [
    "# Get expected and actual repeated cumulative transactions.\n",
    "from lifetimes.utils import expected_cumulative_transactions"
   ]
  },
  {
   "cell_type": "code",
   "execution_count": null,
   "metadata": {},
   "outputs": [],
   "source": [
    "#highest expected purchases in the next period\n",
    "\n",
    "customer_detail['pred_90d_mbgnbd'] = mbgnbd.conditional_expected_number_of_purchases_up_to_time(t, \n",
    "                                                                                      customer_detail['frequency'], \n",
    "                                                                                      customer_detail['recency'], \n",
    "                                                                                      customer_detail['T'])\n",
    "customer_detail.head()"
   ]
  },
  {
   "cell_type": "code",
   "execution_count": null,
   "metadata": {},
   "outputs": [],
   "source": [
    "customer_detail['p_alive'] = mbgnbd.conditional_probability_alive(customer_detail['frequency'], customer_detail['recency'], customer_detail['T'])\n",
    "customer_detail.head()"
   ]
  },
  {
   "cell_type": "code",
   "execution_count": null,
   "metadata": {},
   "outputs": [],
   "source": [
    "#The Gamma-Gamma modelassumes that there is no relationship between the monetary value and the purchase frequency\n",
    "customer_detail[['avg_order_value','frequency']].corr()"
   ]
  },
  {
   "cell_type": "code",
   "execution_count": null,
   "metadata": {},
   "outputs": [],
   "source": [
    "#It is used to estimate the average monetary value of customer transactions\n",
    "from lifetimes import GammaGammaFitter\n",
    "\n",
    "gg = GammaGammaFitter(penalizer_coef = 0.001)\n",
    "gg.fit(customer_detail['frequency'], customer_detail['avg_order_value'],verbose=True)\n",
    "\n",
    "print(gg.conditional_expected_average_profit(\n",
    "        customer_detail['frequency'],\n",
    "        customer_detail['avg_order_value']\n",
    "    ).head(10))"
   ]
  },
  {
   "cell_type": "code",
   "execution_count": null,
   "metadata": {},
   "outputs": [],
   "source": [
    "customer_detail['clv']=gg.customer_lifetime_value(\n",
    "    mbgnbd,\n",
    "    customer_detail['frequency'],\n",
    "    customer_detail['recency'],\n",
    "    customer_detail['T'],\n",
    "    customer_detail['avg_order_value'],\n",
    "    time=t,\n",
    "    discount_rate=0\n",
    ").astype(int)\n",
    "customer_detail.head()\n",
    "\n",
    "\n",
    "print(gg.conditional_expected_average_profit(\n",
    "        customer_detail['frequency'],\n",
    "        customer_detail['monetary']\n",
    "    ).head(10))"
   ]
  },
  {
   "cell_type": "code",
   "execution_count": null,
   "metadata": {},
   "outputs": [],
   "source": [
    "\n"
   ]
  }
 ],
 "metadata": {
  "kernelspec": {
   "display_name": "Python 3",
   "language": "python",
   "name": "python3"
  },
  "language_info": {
   "codemirror_mode": {
    "name": "ipython",
    "version": 3
   },
   "file_extension": ".py",
   "mimetype": "text/x-python",
   "name": "python",
   "nbconvert_exporter": "python",
   "pygments_lexer": "ipython3",
   "version": "3.6.9"
  }
 },
 "nbformat": 4,
 "nbformat_minor": 2
}
